{
 "cells": [
  {
   "cell_type": "markdown",
   "metadata": {},
   "source": [
    "# Analyzing the NYC Restaurant Inspections Dataset using Topic Modeling"
   ]
  },
  {
   "cell_type": "code",
   "execution_count": 1,
   "metadata": {},
   "outputs": [],
   "source": [
    "import pandas as pd\n",
    "import numpy as np\n",
    "import matplotlib.pyplot as plt\n",
    "import seaborn as sns"
   ]
  },
  {
   "cell_type": "code",
   "execution_count": 2,
   "metadata": {},
   "outputs": [],
   "source": [
    "# ingest data into DataFrame\n",
    "filenames = [\"DOHMH_New_York_City_Restaurant_Inspection_Results_\"+str(i)+\"_of_6.txt\" for i in range(1,7)]\n",
    "df = pd.concat((pd.read_csv(f) for f in filenames))"
   ]
  },
  {
   "cell_type": "code",
   "execution_count": 3,
   "metadata": {},
   "outputs": [
    {
     "data": {
      "text/plain": [
       "399918"
      ]
     },
     "execution_count": 3,
     "metadata": {},
     "output_type": "execute_result"
    }
   ],
   "source": [
    "# number of records\n",
    "len(df)"
   ]
  },
  {
   "cell_type": "code",
   "execution_count": 4,
   "metadata": {},
   "outputs": [
    {
     "data": {
      "text/plain": [
       "Index(['Unnamed: 0', 'CAMIS', 'DBA', 'BORO', 'BUILDING', 'STREET', 'ZIPCODE',\n",
       "       'PHONE', 'CUISINE DESCRIPTION', 'INSPECTION DATE', 'ACTION',\n",
       "       'VIOLATION CODE', 'VIOLATION DESCRIPTION', 'CRITICAL FLAG', 'SCORE',\n",
       "       'GRADE', 'GRADE DATE', 'RECORD DATE', 'INSPECTION TYPE'],\n",
       "      dtype='object')"
      ]
     },
     "execution_count": 4,
     "metadata": {},
     "output_type": "execute_result"
    }
   ],
   "source": [
    "# available columns\n",
    "df.columns"
   ]
  },
  {
   "cell_type": "markdown",
   "metadata": {},
   "source": [
    "## Exploratory Data Analysis"
   ]
  },
  {
   "cell_type": "code",
   "execution_count": 5,
   "metadata": {},
   "outputs": [
    {
     "data": {
      "text/plain": [
       "array([nan, 'C', 'A', 'B', 'Z', 'Not Yet Graded', 'P'], dtype=object)"
      ]
     },
     "execution_count": 5,
     "metadata": {},
     "output_type": "execute_result"
    }
   ],
   "source": [
    "# grade values in the dataset\n",
    "df['GRADE'].unique()"
   ]
  },
  {
   "cell_type": "code",
   "execution_count": 6,
   "metadata": {},
   "outputs": [],
   "source": [
    "# remove restaurants without grade\n",
    "dfgr = df.dropna(subset=['GRADE'])"
   ]
  },
  {
   "cell_type": "markdown",
   "metadata": {},
   "source": [
    "### Look at grades by boro"
   ]
  },
  {
   "cell_type": "code",
   "execution_count": 7,
   "metadata": {},
   "outputs": [
    {
     "data": {
      "image/png": "[encoded data removed]",
      "text/plain": [
       "<Figure size 1080x720 with 1 Axes>"
      ]
     },
     "metadata": {
      "needs_background": "light"
     },
     "output_type": "display_data"
    }
   ],
   "source": [
    "# plot restaurants with A, B, C grade by boro\n",
    "fig, ax = plt.subplots(figsize=(15,10))\n",
    "ax.set_title('Grades by Boro')\n",
    "dfgr[dfgr['GRADE'].apply(lambda x: x in 'ABC')].groupby(['BORO','GRADE'])['CAMIS'].count().unstack().plot(kind='bar', ax=ax);\n",
    "plt.savefig('grades.png')"
   ]
  },
  {
   "cell_type": "markdown",
   "metadata": {},
   "source": [
    "### Look at grades by cuisine"
   ]
  },
  {
   "cell_type": "code",
   "execution_count": 8,
   "metadata": {},
   "outputs": [
    {
     "data": {
      "text/plain": [
       "array(['Italian', 'Chinese', 'American', 'Pakistani', 'Japanese',\n",
       "       'Caribbean', 'Seafood', 'Pizza', 'Indian', 'Soul Food', 'Mexican',\n",
       "       'Latin (Cuban, Dominican, Puerto Rican, South & Central American)',\n",
       "       'Bagels/Pretzels', 'Steak', 'Korean', 'Tapas', 'Chinese/Japanese',\n",
       "       'Hamburgers', 'Vegetarian', 'Turkish', 'African', 'Spanish',\n",
       "       'CafÃ©/Coffee/Tea', 'Greek', 'Bakery', 'Continental', 'Brazilian',\n",
       "       'Mediterranean', 'Salads', 'Thai', 'Asian', 'Pizza/Italian',\n",
       "       'Donuts', 'Delicatessen', 'Jewish/Kosher', 'Sandwiches', 'Russian',\n",
       "       'Vietnamese/Cambodian/Malaysia', 'Other',\n",
       "       'Sandwiches/Salads/Mixed Buffet', 'Peruvian', 'Tex-Mex',\n",
       "       'Bottled beverages, including water, sodas, juices, etc.', 'Irish',\n",
       "       'French', 'German', 'Ice Cream, Gelato, Yogurt, Ices',\n",
       "       'Middle Eastern', 'Juice, Smoothies, Fruit Salads', 'Chicken',\n",
       "       'Australian', 'Bangladeshi', 'Creole', 'Hotdogs', 'Soups',\n",
       "       'Hotdogs/Pretzels', 'English', 'Hawaiian', 'Pancakes/Waffles',\n",
       "       'Scandinavian', 'Filipino', 'Californian', 'Polish', 'Barbecue',\n",
       "       'Afghan', 'Eastern European', 'Cajun', 'Chilean', 'Indonesian',\n",
       "       'Egyptian', 'Moroccan', 'Ethiopian', 'Soups & Sandwiches',\n",
       "       'Fruits/Vegetables', 'Southwestern', 'Nuts/Confectionary',\n",
       "       'Armenian', 'Chinese/Cuban', 'Not Listed/Not Applicable',\n",
       "       'Creole/Cajun', 'Portuguese', 'Iranian', 'Polynesian', 'Czech'],\n",
       "      dtype=object)"
      ]
     },
     "execution_count": 8,
     "metadata": {},
     "output_type": "execute_result"
    }
   ],
   "source": [
    "# available cuisine descriptions in the dataset\n",
    "df['CUISINE DESCRIPTION'].unique()"
   ]
  },
  {
   "cell_type": "code",
   "execution_count": 9,
   "metadata": {},
   "outputs": [
    {
     "name": "stderr",
     "output_type": "stream",
     "text": [
      "/home/eli/anaconda3/envs/datachal/lib/python3.6/site-packages/ipykernel_launcher.py:2: SettingWithCopyWarning: \n",
      "A value is trying to be set on a copy of a slice from a DataFrame.\n",
      "Try using .loc[row_indexer,col_indexer] = value instead\n",
      "\n",
      "See the caveats in the documentation: http://pandas.pydata.org/pandas-docs/stable/indexing.html#indexing-view-versus-copy\n",
      "  \n"
     ]
    }
   ],
   "source": [
    "# Shorten the Latin American cuisine description for better visualization\n",
    "dfgr['CUISINE DESCRIPTION']=dfgr['CUISINE DESCRIPTION'].apply(lambda x: 'Latin' if x=='Latin (Cuban, Dominican, Puerto Rican, South & Central American)' else x)"
   ]
  },
  {
   "cell_type": "code",
   "execution_count": 10,
   "metadata": {},
   "outputs": [
    {
     "data": {
      "image/png": "[encoded data removed]",
      "text/plain": [
       "<Figure size 1080x720 with 12 Axes>"
      ]
     },
     "metadata": {},
     "output_type": "display_data"
    }
   ],
   "source": [
    "# plot grade ratio by cuisine\n",
    "fig, ax = plt.subplots(nrows=4,ncols=3,figsize=(15,10))\n",
    "dfgr[dfgr['GRADE'].apply(lambda x: x in 'ABC')].groupby(['CUISINE DESCRIPTION','GRADE'])['CAMIS'].count().unstack(level=1).nlargest(12,'A').T.plot.pie(subplots=True, ax=ax);\n",
    "plt.savefig('gradesbycuisine.png')"
   ]
  },
  {
   "cell_type": "markdown",
   "metadata": {},
   "source": [
    "### Look at the ratio of critical violations by cuisine"
   ]
  },
  {
   "cell_type": "code",
   "execution_count": 11,
   "metadata": {},
   "outputs": [
    {
     "data": {
      "text/plain": [
       "220082"
      ]
     },
     "execution_count": 11,
     "metadata": {},
     "output_type": "execute_result"
    }
   ],
   "source": [
    "# number of critical violations\n",
    "len(df[df['CRITICAL FLAG']=='Critical'])"
   ]
  },
  {
   "cell_type": "code",
   "execution_count": 12,
   "metadata": {},
   "outputs": [
    {
     "data": {
      "image/png": "[encoded data removed]",
      "text/plain": [
       "<Figure size 1080x720 with 1 Axes>"
      ]
     },
     "metadata": {
      "needs_background": "light"
     },
     "output_type": "display_data"
    }
   ],
   "source": [
    "# plot probability of critical violations by cuisine (probability is the number of critical violations normalized by\n",
    "# the number of inspections)\n",
    "fig, ax = plt.subplots(figsize=(15,10))\n",
    "ax.set_title('Probability of critical violations by cuisine type')\n",
    "plt.xticks(rotation=70)\n",
    "prob_crit_viol_by_cuisine = df[df['CRITICAL FLAG']=='Critical'].groupby('CUISINE DESCRIPTION')['CAMIS'].count()/df.groupby('CUISINE DESCRIPTION')['CAMIS'].count()\n",
    "prob_crit_viol_by_cuisine = prob_crit_viol_by_cuisine.dropna().sort_values(ascending=False)\n",
    "sns.barplot(x=prob_crit_viol_by_cuisine.index[:12],y=prob_crit_viol_by_cuisine.values[:12], ax=ax);\n",
    "plt.savefig('critprobbycuisine.png')"
   ]
  },
  {
   "cell_type": "markdown",
   "metadata": {},
   "source": [
    "### Look at inspection scores by month"
   ]
  },
  {
   "cell_type": "code",
   "execution_count": 13,
   "metadata": {},
   "outputs": [],
   "source": [
    "# turn inpection date into datetime column\n",
    "df['inspdate']=pd.to_datetime(df['INSPECTION DATE'])"
   ]
  },
  {
   "cell_type": "code",
   "execution_count": 14,
   "metadata": {},
   "outputs": [],
   "source": [
    "# extract inspection month\n",
    "df['inspmth']=df['inspdate'].apply(lambda x: x.month)"
   ]
  },
  {
   "cell_type": "code",
   "execution_count": 15,
   "metadata": {},
   "outputs": [],
   "source": [
    "df['inspseason']=(df['inspmth']%12 + 3)//3"
   ]
  },
  {
   "cell_type": "code",
   "execution_count": 16,
   "metadata": {},
   "outputs": [
    {
     "data": {
      "image/png": "[encoded data removed]",
      "text/plain": [
       "<Figure size 1080x720 with 1 Axes>"
      ]
     },
     "metadata": {
      "needs_background": "light"
     },
     "output_type": "display_data"
    }
   ],
   "source": [
    "fig, ax = plt.subplots(figsize=(15,10))\n",
    "ax.set_title('Scores by month')\n",
    "sns.barplot(x=df.groupby('inspmth')['SCORE'].mean().index,y=df.groupby('inspmth')['SCORE'].mean().values);\n",
    "plt.savefig('scoremth.png')"
   ]
  },
  {
   "cell_type": "markdown",
   "metadata": {},
   "source": [
    "### Look at contingency table for categorical variables to select features for the model"
   ]
  },
  {
   "cell_type": "code",
   "execution_count": 17,
   "metadata": {},
   "outputs": [],
   "source": [
    "## Contingency Table for Cuisine, Grade\n",
    "table = dfgr[dfgr['GRADE'].apply(lambda x: x in 'ABC')].groupby(['CUISINE DESCRIPTION','GRADE'])['CAMIS'].count().unstack(level=1).dropna().values"
   ]
  },
  {
   "cell_type": "code",
   "execution_count": 18,
   "metadata": {},
   "outputs": [
    {
     "data": {
      "text/plain": [
       "64"
      ]
     },
     "execution_count": 18,
     "metadata": {},
     "output_type": "execute_result"
    }
   ],
   "source": [
    "len(table)"
   ]
  },
  {
   "cell_type": "markdown",
   "metadata": {},
   "source": [
    "#### Because chi2 test requires at least 5 elements in contingency table, we remove table elements that have less than 6 representatives"
   ]
  },
  {
   "cell_type": "code",
   "execution_count": 19,
   "metadata": {},
   "outputs": [
    {
     "data": {
      "text/plain": [
       "53"
      ]
     },
     "execution_count": 19,
     "metadata": {},
     "output_type": "execute_result"
    }
   ],
   "source": [
    "len(table[table.min(axis=1)>5,:])"
   ]
  },
  {
   "cell_type": "code",
   "execution_count": 20,
   "metadata": {},
   "outputs": [],
   "source": [
    "from scipy.stats import chi2_contingency\n",
    "chi2stat,p,dof,ex = chi2_contingency(table[table.min(axis=1)>5,:])"
   ]
  },
  {
   "cell_type": "markdown",
   "metadata": {},
   "source": [
    "#### Print 'dependent' for dependent variable, 'independent' for independent variable as determined by chi2 test using p<0.05 criterion."
   ]
  },
  {
   "cell_type": "code",
   "execution_count": 21,
   "metadata": {},
   "outputs": [
    {
     "name": "stdout",
     "output_type": "stream",
     "text": [
      "dependent\n"
     ]
    }
   ],
   "source": [
    "from scipy.stats import chi2\n",
    "prob=0.95\n",
    "crit = chi2.ppf(prob,dof)\n",
    "if np.abs(chi2stat)>crit:\n",
    "    print('dependent')\n",
    "else:\n",
    "    print('independent')"
   ]
  },
  {
   "cell_type": "markdown",
   "metadata": {},
   "source": [
    "## Topic Modelling"
   ]
  },
  {
   "cell_type": "markdown",
   "metadata": {},
   "source": [
    "#### Use topic modeling to classify violation descriptions into three topics. The number of unique descriptions is 94."
   ]
  },
  {
   "cell_type": "code",
   "execution_count": 22,
   "metadata": {},
   "outputs": [
    {
     "data": {
      "text/plain": [
       "94"
      ]
     },
     "execution_count": 22,
     "metadata": {},
     "output_type": "execute_result"
    }
   ],
   "source": [
    "len(df['VIOLATION DESCRIPTION'].unique())"
   ]
  },
  {
   "cell_type": "markdown",
   "metadata": {},
   "source": [
    "#### Use nltk to tokenize and lemmatize descriptions before applying Latent Dirichlet Allocation (LDA) algorithm to assign topics"
   ]
  },
  {
   "cell_type": "code",
   "execution_count": 23,
   "metadata": {},
   "outputs": [],
   "source": [
    "import nltk"
   ]
  },
  {
   "cell_type": "code",
   "execution_count": 24,
   "metadata": {},
   "outputs": [],
   "source": [
    "flatten = lambda l: [item for sublist in l for item in sublist]\n",
    "en_stop = set(nltk.corpus.stopwords.words('english'))"
   ]
  },
  {
   "cell_type": "code",
   "execution_count": 25,
   "metadata": {},
   "outputs": [],
   "source": [
    "def tokenize(text):\n",
    "    return flatten([nltk.word_tokenize(t) for t in nltk.sent_tokenize(text)])\n",
    "\n",
    "\n",
    "from nltk.corpus import wordnet as wn\n",
    "def get_lemma(word):\n",
    "    lemma = wn.morphy(word)\n",
    "    if lemma is None:\n",
    "        return word\n",
    "    else:\n",
    "        return lemma\n",
    "    \n",
    "def prepare_text_for_lda(text):\n",
    "    tokens = tokenize(text)\n",
    "    tokens = [token for token in tokens if len(token) > 3]\n",
    "    tokens = [token for token in tokens if token not in en_stop]\n",
    "    tokens = [get_lemma(token) for token in tokens]\n",
    "    return tokens"
   ]
  },
  {
   "cell_type": "code",
   "execution_count": 26,
   "metadata": {},
   "outputs": [],
   "source": [
    "df=df.dropna(subset=['VIOLATION DESCRIPTION'])"
   ]
  },
  {
   "cell_type": "code",
   "execution_count": 27,
   "metadata": {},
   "outputs": [],
   "source": [
    "df['desc']=df['VIOLATION DESCRIPTION'].apply(lambda x: prepare_text_for_lda(x))"
   ]
  },
  {
   "cell_type": "markdown",
   "metadata": {},
   "source": [
    "#### Because there are only 94 different violation descriptions for 400,000 rows in the table, create a dictionary mapping each description to its tokens which will be then used for LDA"
   ]
  },
  {
   "cell_type": "code",
   "execution_count": 28,
   "metadata": {},
   "outputs": [],
   "source": [
    "unique_descs=df['VIOLATION DESCRIPTION'].unique()"
   ]
  },
  {
   "cell_type": "code",
   "execution_count": 29,
   "metadata": {},
   "outputs": [],
   "source": [
    "descdict = {x: prepare_text_for_lda(x) for x in unique_descs}"
   ]
  },
  {
   "cell_type": "markdown",
   "metadata": {},
   "source": [
    "#### Create a list of tokenized topics and use gensim to form a corpus and fit an LDA model to it"
   ]
  },
  {
   "cell_type": "code",
   "execution_count": 31,
   "metadata": {},
   "outputs": [],
   "source": [
    "l=[]\n",
    "for k,v in descdict.items():\n",
    "    l.append(v)"
   ]
  },
  {
   "cell_type": "code",
   "execution_count": 32,
   "metadata": {},
   "outputs": [],
   "source": [
    "from gensim import corpora\n",
    "dictionary = corpora.Dictionary(l)\n",
    "corpus = [dictionary.doc2bow(text) for text in df['desc'].values]"
   ]
  },
  {
   "cell_type": "code",
   "execution_count": 33,
   "metadata": {},
   "outputs": [],
   "source": [
    "import gensim\n",
    "ldamodel = gensim.models.ldamodel.LdaModel(corpus, num_topics = 3, id2word=dictionary)\n",
    "ldamodel.save('ldamodel3.gensim')"
   ]
  },
  {
   "cell_type": "code",
   "execution_count": 34,
   "metadata": {},
   "outputs": [
    {
     "name": "stdout",
     "output_type": "stream",
     "text": [
      "(0, '0.095*\"food\" + 0.038*\"item\" + 0.037*\"hold\" + 0.037*\"mouse\" + 0.035*\"facility\" + 0.033*\"area\" + 0.029*\"and/or\" + 0.028*\"Food\" + 0.026*\"present\" + 0.026*\"non-food\"')\n",
      "(1, '0.086*\"flies\" + 0.045*\"improperly\" + 0.042*\"contact\" + 0.042*\"surface\" + 0.040*\"Non-food\" + 0.027*\"and/or\" + 0.027*\"use\" + 0.022*\"maintain\" + 0.022*\"properly\" + 0.022*\"equipment\"')\n",
      "(2, '0.082*\"vermin\" + 0.046*\"properly\" + 0.029*\"and/or\" + 0.028*\"allow\" + 0.028*\"exist\" + 0.028*\"conditions\" + 0.028*\"Facility\" + 0.028*\"premises\" + 0.027*\"proof\" + 0.027*\"Harborage\"')\n"
     ]
    }
   ],
   "source": [
    "# Print the words associated with the topic\n",
    "topics = ldamodel.print_topics(num_words=10)\n",
    "for topic in topics:\n",
    "    print(topic)"
   ]
  },
  {
   "cell_type": "markdown",
   "metadata": {},
   "source": [
    "#### Assign topic to a violation description by the most probable topic returned by the lda model. The model returns a list of tuples (topic, probability),  \"sorted\" is used to return the max probability topic"
   ]
  },
  {
   "cell_type": "code",
   "execution_count": 35,
   "metadata": {},
   "outputs": [],
   "source": [
    "df['viol_topic']=df['VIOLATION DESCRIPTION'].apply(lambda x: sorted(ldamodel.get_document_topics(dictionary.doc2bow(descdict[x])),key=lambda x:-x[1])[0][0])"
   ]
  },
  {
   "cell_type": "markdown",
   "metadata": {},
   "source": [
    "#### After assigning the topic, we see the following classes:"
   ]
  },
  {
   "cell_type": "code",
   "execution_count": 37,
   "metadata": {},
   "outputs": [
    {
     "data": {
      "text/plain": [
       "viol_topic\n",
       "0    136460\n",
       "1    142999\n",
       "2    113480\n",
       "Name: CAMIS, dtype: int64"
      ]
     },
     "execution_count": 37,
     "metadata": {},
     "output_type": "execute_result"
    }
   ],
   "source": [
    "df.groupby(['viol_topic'])['CAMIS'].count()"
   ]
  },
  {
   "cell_type": "markdown",
   "metadata": {},
   "source": [
    "## Use Zipcode, Grade, Cuisine to build a classifier for violation topics"
   ]
  },
  {
   "cell_type": "markdown",
   "metadata": {},
   "source": [
    "#### Make sure we remove rows with missing data needed for the model"
   ]
  },
  {
   "cell_type": "code",
   "execution_count": 38,
   "metadata": {},
   "outputs": [],
   "source": [
    "dftm = df.dropna(subset=['GRADE','ZIPCODE','CUISINE DESCRIPTION'])"
   ]
  },
  {
   "cell_type": "markdown",
   "metadata": {},
   "source": [
    "#### This removes about 50% of the data but we still have almost 200,000 records"
   ]
  },
  {
   "cell_type": "code",
   "execution_count": 39,
   "metadata": {},
   "outputs": [
    {
     "data": {
      "text/plain": [
       "194260"
      ]
     },
     "execution_count": 39,
     "metadata": {},
     "output_type": "execute_result"
    }
   ],
   "source": [
    "len(dftm)"
   ]
  },
  {
   "cell_type": "markdown",
   "metadata": {},
   "source": [
    "#### Remove zipcodes and cuisines that are not well-represented in the data"
   ]
  },
  {
   "cell_type": "code",
   "execution_count": 40,
   "metadata": {},
   "outputs": [
    {
     "data": {
      "text/plain": [
       "count    230.000000\n",
       "mean     109.843478\n",
       "std      124.061162\n",
       "min        1.000000\n",
       "25%       22.000000\n",
       "50%       79.000000\n",
       "75%      152.500000\n",
       "max      675.000000\n",
       "Name: CAMIS, dtype: float64"
      ]
     },
     "execution_count": 40,
     "metadata": {},
     "output_type": "execute_result"
    }
   ],
   "source": [
    "dftm.drop_duplicates(subset=['CAMIS']).groupby(['ZIPCODE'])['CAMIS'].count().describe()"
   ]
  },
  {
   "cell_type": "code",
   "execution_count": 41,
   "metadata": {},
   "outputs": [
    {
     "data": {
      "text/plain": [
       "count      84.000000\n",
       "mean      300.761905\n",
       "std       740.267757\n",
       "min         2.000000\n",
       "25%        17.500000\n",
       "50%        69.000000\n",
       "75%       317.500000\n",
       "max      6053.000000\n",
       "Name: CAMIS, dtype: float64"
      ]
     },
     "execution_count": 41,
     "metadata": {},
     "output_type": "execute_result"
    }
   ],
   "source": [
    "dftm.drop_duplicates(subset=['CAMIS']).groupby(['CUISINE DESCRIPTION'])['CAMIS'].count().describe()"
   ]
  },
  {
   "cell_type": "markdown",
   "metadata": {},
   "source": [
    "#### Remove outliers: namely, zipcodes and cuisines that have less than 16 restaurants. The bottom quartile for both zipcodes and cuisines is below about 20."
   ]
  },
  {
   "cell_type": "code",
   "execution_count": 42,
   "metadata": {},
   "outputs": [],
   "source": [
    "zipindex=dftm.drop_duplicates(subset=['CAMIS']).groupby(['ZIPCODE'])['CAMIS'].count()[dftm.drop_duplicates(subset=['CAMIS']).groupby(['ZIPCODE'])['CAMIS'].count()<16].index.values"
   ]
  },
  {
   "cell_type": "code",
   "execution_count": 43,
   "metadata": {},
   "outputs": [],
   "source": [
    "cuisindex=dftm.drop_duplicates(subset=['CAMIS']).groupby(['CUISINE DESCRIPTION'])['CAMIS'].count()[dftm.drop_duplicates(subset=['CAMIS']).groupby(['CUISINE DESCRIPTION'])['CAMIS'].count()<16].index.values"
   ]
  },
  {
   "cell_type": "code",
   "execution_count": 44,
   "metadata": {},
   "outputs": [
    {
     "data": {
      "text/plain": [
       "192431"
      ]
     },
     "execution_count": 44,
     "metadata": {},
     "output_type": "execute_result"
    }
   ],
   "source": [
    "##remove outliers\n",
    "dftm=dftm[~dftm.ZIPCODE.isin(zipindex)]\n",
    "dftm=dftm[~dftm['CUISINE DESCRIPTION'].isin(cuisindex)]\n",
    "len(dftm)"
   ]
  },
  {
   "cell_type": "code",
   "execution_count": 45,
   "metadata": {},
   "outputs": [],
   "source": [
    "##filter for grade\n",
    "dftm=dftm[dftm['GRADE'].isin(['A','B','C'])]"
   ]
  },
  {
   "cell_type": "markdown",
   "metadata": {},
   "source": [
    "#### The selected features are all categorical, use one-hot encoding to transform them to dummy variables"
   ]
  },
  {
   "cell_type": "code",
   "execution_count": 46,
   "metadata": {},
   "outputs": [],
   "source": [
    "from sklearn import preprocessing\n",
    "enc = preprocessing.OneHotEncoder()"
   ]
  },
  {
   "cell_type": "code",
   "execution_count": 47,
   "metadata": {},
   "outputs": [],
   "source": [
    "X=dftm[['GRADE','ZIPCODE','CUISINE DESCRIPTION']].values"
   ]
  },
  {
   "cell_type": "code",
   "execution_count": 48,
   "metadata": {},
   "outputs": [
    {
     "data": {
      "text/plain": [
       "OneHotEncoder(categorical_features=None, categories=None,\n",
       "       dtype=<class 'numpy.float64'>, handle_unknown='error',\n",
       "       n_values=None, sparse=True)"
      ]
     },
     "execution_count": 48,
     "metadata": {},
     "output_type": "execute_result"
    }
   ],
   "source": [
    "enc.fit(X)"
   ]
  },
  {
   "cell_type": "code",
   "execution_count": 49,
   "metadata": {},
   "outputs": [],
   "source": [
    "X=enc.transform(X)"
   ]
  },
  {
   "cell_type": "markdown",
   "metadata": {},
   "source": [
    "#### Use train_test_split to split the data into training st and test set to validate the model performance"
   ]
  },
  {
   "cell_type": "code",
   "execution_count": 50,
   "metadata": {},
   "outputs": [],
   "source": [
    "from sklearn.model_selection import train_test_split"
   ]
  },
  {
   "cell_type": "code",
   "execution_count": 57,
   "metadata": {},
   "outputs": [],
   "source": [
    "X_tr, X_test, y_tr, y_test = train_test_split(X, dftm['viol_topic'].values, test_size=0.2)"
   ]
  },
  {
   "cell_type": "markdown",
   "metadata": {},
   "source": [
    "#### Training set has 186K+ rows"
   ]
  },
  {
   "cell_type": "code",
   "execution_count": 58,
   "metadata": {},
   "outputs": [
    {
     "data": {
      "text/plain": [
       "(186582,)"
      ]
     },
     "execution_count": 58,
     "metadata": {},
     "output_type": "execute_result"
    }
   ],
   "source": [
    "dftm['viol_topic'].values.shape"
   ]
  },
  {
   "cell_type": "markdown",
   "metadata": {},
   "source": [
    "#### Fit random forest classifier"
   ]
  },
  {
   "cell_type": "code",
   "execution_count": 59,
   "metadata": {},
   "outputs": [],
   "source": [
    "from sklearn.ensemble import RandomForestClassifier"
   ]
  },
  {
   "cell_type": "code",
   "execution_count": 60,
   "metadata": {},
   "outputs": [
    {
     "name": "stderr",
     "output_type": "stream",
     "text": [
      "/home/eli/anaconda3/envs/datachal/lib/python3.6/site-packages/sklearn/ensemble/forest.py:246: FutureWarning: The default value of n_estimators will change from 10 in version 0.20 to 100 in 0.22.\n",
      "  \"10 in version 0.20 to 100 in 0.22.\", FutureWarning)\n"
     ]
    },
    {
     "data": {
      "text/plain": [
       "RandomForestClassifier(bootstrap=True, class_weight=None, criterion='gini',\n",
       "            max_depth=None, max_features='auto', max_leaf_nodes=None,\n",
       "            min_impurity_decrease=0.0, min_impurity_split=None,\n",
       "            min_samples_leaf=1, min_samples_split=2,\n",
       "            min_weight_fraction_leaf=0.0, n_estimators=10, n_jobs=None,\n",
       "            oob_score=False, random_state=None, verbose=0,\n",
       "            warm_start=False)"
      ]
     },
     "execution_count": 60,
     "metadata": {},
     "output_type": "execute_result"
    }
   ],
   "source": [
    "rf=RandomForestClassifier()\n",
    "rf.fit(X_tr,y_tr)"
   ]
  },
  {
   "cell_type": "code",
   "execution_count": 61,
   "metadata": {},
   "outputs": [
    {
     "data": {
      "text/plain": [
       "0.47335276186647907"
      ]
     },
     "execution_count": 61,
     "metadata": {},
     "output_type": "execute_result"
    }
   ],
   "source": [
    "rf.score(X_tr,y_tr) # accuracy score on training data"
   ]
  },
  {
   "cell_type": "code",
   "execution_count": 62,
   "metadata": {},
   "outputs": [
    {
     "data": {
      "text/plain": [
       "0.40930407053085727"
      ]
     },
     "execution_count": 62,
     "metadata": {},
     "output_type": "execute_result"
    }
   ],
   "source": [
    "rf.score(X_test,y_test) # accuracy score on test data"
   ]
  },
  {
   "cell_type": "markdown",
   "metadata": {},
   "source": [
    "#### Derive feature importances from our model, group features into classes: grade, zipcode, cuisine. Plot the obtained feature importances."
   ]
  },
  {
   "cell_type": "code",
   "execution_count": 63,
   "metadata": {},
   "outputs": [],
   "source": [
    "fimp = {\"grade\": [rf.feature_importances_[:3].sum()], \"zip\" : [rf.feature_importances_[3:183].sum()], \"cuisine\" :[rf.feature_importances_[184:].sum()]}"
   ]
  },
  {
   "cell_type": "code",
   "execution_count": 64,
   "metadata": {},
   "outputs": [],
   "source": [
    "fimp=pd.DataFrame.from_dict(fimp)"
   ]
  },
  {
   "cell_type": "code",
   "execution_count": 65,
   "metadata": {},
   "outputs": [
    {
     "data": {
      "image/png": "[encoded data removed]",
      "text/plain": [
       "<Figure size 720x1080 with 1 Axes>"
      ]
     },
     "metadata": {
      "needs_background": "light"
     },
     "output_type": "display_data"
    }
   ],
   "source": [
    "fig,ax=plt.subplots(figsize=(10,15))\n",
    "ax.set_title('Feature Importances')\n",
    "sns.barplot(x=fimp.columns,y=fimp.values[0]);\n",
    "plt.savefig('featureimp.png')"
   ]
  },
  {
   "cell_type": "markdown",
   "metadata": {},
   "source": [
    "#### Evaluate the performance of the random forest classifier on each model topic"
   ]
  },
  {
   "cell_type": "code",
   "execution_count": 66,
   "metadata": {},
   "outputs": [
    {
     "name": "stdout",
     "output_type": "stream",
     "text": [
      "              precision    recall  f1-score   support\n",
      "\n",
      "           0       0.34      0.20      0.26     11432\n",
      "           1       0.44      0.77      0.56     15823\n",
      "           2       0.24      0.08      0.12     10062\n",
      "\n",
      "   micro avg       0.41      0.41      0.41     37317\n",
      "   macro avg       0.34      0.35      0.31     37317\n",
      "weighted avg       0.36      0.41      0.35     37317\n",
      "\n"
     ]
    }
   ],
   "source": [
    "from sklearn.metrics import classification_report\n",
    "print(classification_report(y_test, rf.predict(X_test)))"
   ]
  }
 ],
 "metadata": {
  "kernelspec": {
   "display_name": "Python 3",
   "language": "python",
   "name": "python3"
  },
  "language_info": {
   "codemirror_mode": {
    "name": "ipython",
    "version": 3
   },
   "file_extension": ".py",
   "mimetype": "text/x-python",
   "name": "python",
   "nbconvert_exporter": "python",
   "pygments_lexer": "ipython3",
   "version": "3.6.8"
  }
 },
 "nbformat": 4,
 "nbformat_minor": 2
}
